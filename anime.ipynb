{
  "nbformat": 4,
  "nbformat_minor": 0,
  "metadata": {
    "colab": {
      "name": "anime.ipynb",
      "version": "0.3.2",
      "provenance": [],
      "include_colab_link": true
    },
    "kernelspec": {
      "name": "python3",
      "display_name": "Python 3"
    }
  },
  "cells": [
    {
      "cell_type": "markdown",
      "metadata": {
        "id": "view-in-github",
        "colab_type": "text"
      },
      "source": [
        "<a href=\"https://colab.research.google.com/github/pytholabsbot1/Anime_Recommendation_system/blob/master/anime.ipynb\" target=\"_parent\"><img src=\"https://colab.research.google.com/assets/colab-badge.svg\" alt=\"Open In Colab\"/></a>"
      ]
    },
    {
      "metadata": {
        "id": "6gm6HCVDFNO5",
        "colab_type": "code",
        "outputId": "5efb4318-9287-4666-d2fd-fd7e7e7e5cf4",
        "colab": {
          "base_uri": "https://localhost:8080/",
          "height": 419
        }
      },
      "cell_type": "code",
      "source": [
        "!pip install kaggle lightfm\n",
        "\n",
        "# !mkdir /root/.kaggle\n",
        "\n",
        "# !ls /root/.kaggle\n",
        "\n",
        "# open('/root/.kaggle/kaggle.json','w').write('{\"username\":\"vaqasam\",\"key\":\"2ec5d91c66a678bc314920e84c687f3b\"}')\n",
        "# !chmod 600 /root/.kaggle/kaggle.json\n"
      ],
      "execution_count": 0,
      "outputs": [
        {
          "output_type": "stream",
          "text": [
            "Requirement already satisfied: kaggle in /usr/local/lib/python3.6/dist-packages (1.5.3)\n",
            "Collecting lightfm\n",
            "\u001b[?25l  Downloading https://files.pythonhosted.org/packages/e9/8e/5485ac5a8616abe1c673d1e033e2f232b4319ab95424b42499fabff2257f/lightfm-1.15.tar.gz (302kB)\n",
            "\u001b[K    100% |████████████████████████████████| 307kB 7.6MB/s \n",
            "\u001b[?25hRequirement already satisfied: urllib3<1.25,>=1.21.1 in /usr/local/lib/python3.6/dist-packages (from kaggle) (1.22)\n",
            "Requirement already satisfied: six>=1.10 in /usr/local/lib/python3.6/dist-packages (from kaggle) (1.11.0)\n",
            "Requirement already satisfied: certifi in /usr/local/lib/python3.6/dist-packages (from kaggle) (2019.3.9)\n",
            "Requirement already satisfied: python-dateutil in /usr/local/lib/python3.6/dist-packages (from kaggle) (2.5.3)\n",
            "Requirement already satisfied: requests in /usr/local/lib/python3.6/dist-packages (from kaggle) (2.18.4)\n",
            "Requirement already satisfied: tqdm in /usr/local/lib/python3.6/dist-packages (from kaggle) (4.28.1)\n",
            "Requirement already satisfied: python-slugify in /usr/local/lib/python3.6/dist-packages (from kaggle) (3.0.0)\n",
            "Requirement already satisfied: numpy in /usr/local/lib/python3.6/dist-packages (from lightfm) (1.14.6)\n",
            "Requirement already satisfied: scipy>=0.17.0 in /usr/local/lib/python3.6/dist-packages (from lightfm) (1.1.0)\n",
            "Requirement already satisfied: idna<2.7,>=2.5 in /usr/local/lib/python3.6/dist-packages (from requests->kaggle) (2.6)\n",
            "Requirement already satisfied: chardet<3.1.0,>=3.0.2 in /usr/local/lib/python3.6/dist-packages (from requests->kaggle) (3.0.4)\n",
            "Requirement already satisfied: text-unidecode==1.2 in /usr/local/lib/python3.6/dist-packages (from python-slugify->kaggle) (1.2)\n",
            "Building wheels for collected packages: lightfm\n",
            "  Building wheel for lightfm (setup.py) ... \u001b[?25ldone\n",
            "\u001b[?25h  Stored in directory: /root/.cache/pip/wheels/eb/bb/ac/188385a5da6627956be5d9663928483b36da576149ab5b8f79\n",
            "Successfully built lightfm\n",
            "Installing collected packages: lightfm\n",
            "Successfully installed lightfm-1.15\n"
          ],
          "name": "stdout"
        }
      ]
    },
    {
      "metadata": {
        "id": "EuXD94fCGfPU",
        "colab_type": "code",
        "outputId": "23287a1a-3ffb-4e91-98e6-344e0834032e",
        "colab": {
          "base_uri": "https://localhost:8080/",
          "height": 69
        }
      },
      "cell_type": "code",
      "source": [
        "!kaggle datasets download CooperUnion/anime-recommendations-database"
      ],
      "execution_count": 0,
      "outputs": [
        {
          "output_type": "stream",
          "text": [
            "Downloading anime-recommendations-database.zip to /content\n",
            "\r  0% 0.00/25.2M [00:00<?, ?B/s]\r 20% 5.00M/25.2M [00:00<00:00, 43.7MB/s]\r 83% 21.0M/25.2M [00:00<00:00, 56.1MB/s]\n",
            "\r100% 25.2M/25.2M [00:00<00:00, 100MB/s] \n"
          ],
          "name": "stdout"
        }
      ]
    },
    {
      "metadata": {
        "id": "6Kh-ghsgGqFt",
        "colab_type": "code",
        "outputId": "1087d2e6-2934-47e8-ae14-ed4ad90f4883",
        "colab": {
          "base_uri": "https://localhost:8080/",
          "height": 69
        }
      },
      "cell_type": "code",
      "source": [
        "!unzip anime-recommendations-database.zip"
      ],
      "execution_count": 0,
      "outputs": [
        {
          "output_type": "stream",
          "text": [
            "Archive:  anime-recommendations-database.zip\n",
            "  inflating: anime.csv               \n",
            "  inflating: rating.csv              \n"
          ],
          "name": "stdout"
        }
      ]
    },
    {
      "metadata": {
        "id": "-LUFNG8kGvH8",
        "colab_type": "code",
        "outputId": "90a4785b-5b16-425a-a133-5cab3a5907a9",
        "colab": {
          "resources": {
            "http://localhost:8080/nbextensions/google.colab/files.js": {
              "data": "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",
              "ok": true,
              "headers": [
                [
                  "content-type",
                  "application/javascript"
                ]
              ],
              "status": 200,
              "status_text": ""
            }
          },
          "base_uri": "https://localhost:8080/",
          "height": 165
        }
      },
      "cell_type": "code",
      "source": [
        "from google.colab import files\n",
        "\n",
        "files.upload()"
      ],
      "execution_count": 0,
      "outputs": [
        {
          "output_type": "display_data",
          "data": {
            "text/html": [
              "\n",
              "     <input type=\"file\" id=\"files-d5166358-a2e8-43c8-9097-2921474ea6f0\" name=\"files[]\" multiple disabled />\n",
              "     <output id=\"result-d5166358-a2e8-43c8-9097-2921474ea6f0\">\n",
              "      Upload widget is only available when the cell has been executed in the\n",
              "      current browser session. Please rerun this cell to enable.\n",
              "      </output>\n",
              "      <script src=\"/nbextensions/google.colab/files.js\"></script> "
            ],
            "text/plain": [
              "<IPython.core.display.HTML object>"
            ]
          },
          "metadata": {
            "tags": []
          }
        },
        {
          "output_type": "stream",
          "text": [
            "Saving generic_preprocessing.py to generic_preprocessing.py\n",
            "Saving recsys.py to recsys.py\n"
          ],
          "name": "stdout"
        },
        {
          "output_type": "execute_result",
          "data": {
            "text/plain": [
              "{'generic_preprocessing.py': b'\"\"\"\\n@author: Aayush Agrawal\\n@Purpose - Re-usable code in Python 3 for general data exploration and pre-processing in modeling process\\n\"\"\"\\n\\n## Importing required libraries\\nimport pandas as pd ## For DataFrame operation\\nimport numpy as np ## Numerical python for matrix operations\\nfrom sklearn.preprocessing import LabelEncoder, MinMaxScaler, StandardScaler ## Preprocessing function\\nimport pandas_profiling ## For easy profiling of pandas DataFrame\\nimport missingno as msno ## Missing value co-occurance analysis\\n\\n####### Data Exploration ############\\n\\ndef print_dim(df):\\n    \\'\\'\\'\\n    Function to print the dimensions of a given python dataframe\\n    Required Input -\\n        - df = Pandas DataFrame\\n    Expected Output -\\n        - Data size\\n    \\'\\'\\'\\n    print(\"Data size: Rows-{0} Columns-{1}\".format(df.shape[0],df.shape[1]))\\n\\n\\ndef print_dataunique(df):\\n    \\'\\'\\'\\n    Function to print unique information for each column in a python dataframe\\n    Required Input - \\n        - df = Pandas DataFrame\\n    Expected Output -\\n        - Column name\\n        - Data type of that column\\n        - Number of unique values in that column\\n        - 5 unique values from that column\\n    \\'\\'\\'\\n    counter = 0\\n    for i in df.columns:\\n        x = df.loc[:,i].unique()\\n        print(counter,i,type(df.loc[0,i]), len(x), x[0:5])\\n        counter +=1\\n        \\ndef do_data_profiling(df, filename):\\n    \\'\\'\\'\\n    Function to do basic data profiling\\n    Required Input - \\n        - df = Pandas DataFrame\\n        - filename = Path for output file with a .html extension\\n    Expected Output -\\n        - HTML file with data profiling summary\\n    \\'\\'\\'\\n    profile = pandas_profiling.ProfileReport(df)\\n    profile.to_file(outputfile = filename)\\n    print(\"Data profiling done\")\\n\\ndef missing_value_analysis(df):\\n    \\'\\'\\'\\n    Function to do basic missing value analysis\\n    Required Input - \\n        - df = Pandas DataFrame\\n    Expected Output -\\n        - Chart of Missing value co-occurance\\n        - Chart of Missing value heatmap\\n    \\'\\'\\'\\n    msno.matrix(df)\\n    msno.heatmap(df)\\n\\n####### Basic helper function ############\\n\\ndef join_df(left, right, left_on, right_on=None, method=\\'left\\'):\\n    \\'\\'\\'\\n    Function to outer joins of pandas dataframe\\n    Required Input - \\n        - left = Pandas DataFrame 1\\n        - right = Pandas DataFrame 2\\n        - left_on = Fields in DataFrame 1 to merge on\\n        - right_on = Fields in DataFrame 2 to merge with left_on fields of Dataframe 1\\n        - method = Type of join\\n    Expected Output -\\n        - Pandas dataframe with dropped no variation columns\\n    \\'\\'\\'\\n    if right_on is None:\\n        right_on = left_on\\n    return left.merge(right, \\n                      how=method, \\n                      left_on=left_on, \\n                      right_on=right_on, \\n                      suffixes=(\"\",\"_y\"))\\n    \\n####### Pre-processing ############    \\n\\ndef drop_allsame(df):\\n    \\'\\'\\'\\n    Function to remove any columns which have same value all across\\n    Required Input - \\n        - df = Pandas DataFrame\\n    Expected Output -\\n        - Pandas dataframe with dropped no variation columns\\n    \\'\\'\\'\\n    to_drop = list()\\n    for i in df.columns:\\n        if len(df.loc[:,i].unique()) == 1:\\n            to_drop.append(i)\\n    return df.drop(to_drop,axis =1)\\n\\ndef treat_missing_numeric(df,columns,how = \\'mean\\'):\\n    \\'\\'\\'\\n    Function to treat missing values in numeric columns\\n    Required Input - \\n        - df = Pandas DataFrame\\n        - columns = List input of all the columns need to be imputed\\n        - how = valid values are \\'mean\\', \\'mode\\', \\'median\\',\\'ffill\\', numeric value\\n    Expected Output -\\n        - Pandas dataframe with imputed missing value in mentioned columns\\n    \\'\\'\\'\\n    if how == \\'mean\\':\\n        for i in columns:\\n            print(\"Filling missing values with mean for columns - {0}\".format(i))\\n            df.ix[:,i] = df.ix[:,i].fillna(df.ix[:,i].mean())\\n            \\n    elif how == \\'mode\\':\\n        for i in columns:\\n            print(\"Filling missing values with mode for columns - {0}\".format(i))\\n            df.ix[:,i] = df.ix[:,i].fillna(df.ix[:,i].mode())\\n    \\n    elif how == \\'median\\':\\n        for i in columns:\\n            print(\"Filling missing values with median for columns - {0}\".format(i))\\n            df.ix[:,i] = df.ix[:,i].fillna(df.ix[:,i].median())\\n    \\n    elif how == \\'ffill\\':\\n        for i in columns:\\n            print(\"Filling missing values with forward fill for columns - {0}\".format(i))\\n            df.ix[:,i] = df.ix[:,i].fillna(method =\\'ffill\\')\\n    \\n    elif type(how) == int or type(how) == float:\\n        for i in columns:\\n            print(\"Filling missing values with {0} for columns - {1}\".format(how,i))\\n            df.ix[:,i] = df.ix[:,i].fillna(how)\\n    else:\\n        print(\"Missing value fill cannot be completed\")\\n    return df\\n\\ndef treat_missing_categorical(df,columns,how = \\'mode\\'):\\n    \\'\\'\\'\\n    Function to treat missing values in numeric columns\\n    Required Input - \\n        - df = Pandas DataFrame\\n        - columns = List input of all the columns need to be imputed\\n        - how = valid values are \\'mode\\', any string or numeric value\\n    Expected Output -\\n        - Pandas dataframe with imputed missing value in mentioned columns\\n    \\'\\'\\'\\n    if how == \\'mode\\':\\n        for i in columns:\\n            print(\"Filling missing values with mode for columns - {0}\".format(i))\\n            df.ix[:,i] = df.ix[:,i].fillna(df.ix[:,i].mode()[0])\\n    elif type(how) == str:\\n        for i in columns:\\n            print(\"Filling missing values with {0} for columns - {1}\".format(how,i))\\n            df.ix[:,i] = df.ix[:,i].fillna(how)\\n    elif type(how) == int or type(how) == float:\\n        for i in columns:\\n            print(\"Filling missing values with {0} for columns - {1}\".format(how,i))\\n            df.ix[:,i] = df.ix[:,i].fillna(str(how))\\n    else:\\n        print(\"Missing value fill cannot be completed\")\\n    return df\\n    \\ndef min_max_scaler(df,columns):\\n    \\'\\'\\'\\n    Function to do Min-Max scaling\\n    Required Input - \\n        - df = Pandas DataFrame\\n        - columns = List input of all the columns which needs to be min-max scaled\\n    Expected Output -\\n        - df = Python DataFrame with Min-Max scaled attributes\\n        - scaler = Function which contains the scaling rules\\n    \\'\\'\\'\\n    scaler = MinMaxScaler()\\n    data = pd.DataFrame(scaler.fit_transform(df.loc[:,columns]))\\n    data.index = df.index\\n    data.columns = columns\\n    return data, scaler\\n\\ndef z_scaler(df,columns):\\n    \\'\\'\\'\\n    Function to standardize features by removing the mean and scaling to unit variance\\n    Required Input - \\n        - df = Pandas DataFrame\\n        - columns = List input of all the columns which needs to be min-max scaled\\n    Expected Output -\\n        - df = Python DataFrame with Min-Max scaled attributes\\n        - scaler = Function which contains the scaling rules\\n    \\'\\'\\'\\n    scaler = StandardScaler()\\n    data = pd.DataFrame(scaler.fit_transform(df.loc[:,columns]))\\n    data.index = df.index\\n    data.columns = columns\\n    return data, scaler\\n    \\ndef label_encoder(df,columns):\\n    \\'\\'\\'\\n    Function to label encode\\n    Required Input - \\n        - df = Pandas DataFrame\\n        - columns = List input of all the columns which needs to be label encoded\\n    Expected Output -\\n        - df = Pandas DataFrame with lable encoded columns\\n        - le_dict = Dictionary of all the column and their label encoders\\n    \\'\\'\\'\\n    le_dict = {}\\n    for c in columns:\\n        print(\"Label encoding column - {0}\".format(c))\\n        lbl = LabelEncoder()\\n        lbl.fit(list(df[c].values.astype(\\'str\\')))\\n        df[c] = lbl.transform(list(df[c].values.astype(\\'str\\')))\\n        le_dict[c] = lbl\\n    return df, le_dict\\n\\ndef one_hot_encoder(df, columns):\\n    \\'\\'\\'\\n    Function to do one-hot encoded\\n    Required Input - \\n        - df = Pandas DataFrame\\n        - columns = List input of all the columns which needs to be one-hot encoded\\n    Expected Output -\\n        - df = Pandas DataFrame with one-hot encoded columns\\n    \\'\\'\\'\\n    for each in columns:\\n        print(\"One-Hot encoding column - {0}\".format(each))\\n        dummies = pd.get_dummies(df[each], prefix=each, drop_first=False)\\n        df = pd.concat([df, dummies], axis=1)\\n    return df.drop(columns,axis = 1)\\n\\n####### Feature Engineering ############\\ndef create_date_features(df,column, date_format = None, more_features = False, time_features = False):\\n    \\'\\'\\'\\n    Function to extract date features\\n    Required Input - \\n        - df = Pandas DataFrame\\n        - date_format = Date parsing format\\n        - columns = Columns name containing date field\\n        - more_features = To get more feature extracted\\n        - time_features = To extract hour from datetime field\\n    Expected Output -\\n        - df = Pandas DataFrame with additional extracted date features\\n    \\'\\'\\'\\n    if date_format is None:\\n        df.loc[:,column] = pd.to_datetime(df.loc[:,column])\\n    else:\\n        df.loc[:,column] = pd.to_datetime(df.loc[:,column],format = date_format)\\n    df.loc[:,column+\\'_Year\\'] = df.loc[:,column].dt.year\\n    df.loc[:,column+\\'_Month\\'] = df.loc[:,column].dt.month.astype(\\'uint8\\')\\n    df.loc[:,column+\\'_Week\\'] = df.loc[:,column].dt.week.astype(\\'uint8\\')\\n    df.loc[:,column+\\'_Day\\'] = df.loc[:,column].dt.day.astype(\\'uint8\\')\\n    \\n    if more_features:\\n        df.loc[:,column+\\'_Quarter\\'] = df.loc[:,column].dt.quarter.astype(\\'uint8\\')\\n        df.loc[:,column+\\'_DayOfWeek\\'] = df.loc[:,column].dt.dayofweek.astype(\\'uint8\\')\\n        df.loc[:,column+\\'_DayOfYear\\'] = df.loc[:,column].dt.dayofyear\\n        \\n    if time_features:\\n        df.loc[:,column+\\'_Hour\\'] = df.loc[:,column].dt.hour.astype(\\'uint8\\')\\n    return df\\n\\ndef target_encoder(train_df, col_name, target_name, test_df = None, how=\\'mean\\'):\\n    \\'\\'\\'\\n    Function to do target encoding\\n    Required Input - \\n        - train_df = Training Pandas Dataframe\\n        - test_df = Testing Pandas Dataframe\\n        - col_name = Name of the columns of the source variable\\n        - target_name = Name of the columns of target variable\\n        - how = \\'mean\\' default but can also be \\'count\\'\\n\\tExpected Output - \\n\\t\\t- train_df = Training dataframe with added encoded features\\n\\t\\t- test_df = Testing dataframe with added encoded features\\n    \\'\\'\\'\\n    aggregate_data = train_df.groupby(col_name)[target_name] \\\\\\n                    .agg([how]) \\\\\\n                    .reset_index() \\\\\\n                    .rename(columns={how: col_name+\\'_\\'+target_name+\\'_\\'+how})\\n    if test_df is None:\\n        return join_df(train_df,aggregate_data,left_on = col_name)\\n    else:\\n        return join_df(train_df,aggregate_data,left_on = col_name), join_df(test_df,aggregate_data,left_on = col_name)\\n',\n",
              " 'recsys.py': b'\"\"\"\\n@author: Aayush Agrawal\\n@Purpose - Re-usable code in Python 3 for Recommender systems\\nML-small-dataset - https://grouplens.org/datasets/movielens/\\n\"\"\"\\n\\nimport pandas as pd\\nimport numpy as np\\nfrom scipy import sparse\\nfrom lightfm import LightFM\\nfrom sklearn.metrics.pairwise import cosine_similarity\\n\\ndef create_interaction_matrix(df,user_col, item_col, rating_col, norm= False, threshold = None):\\n    \\'\\'\\'\\n    Function to create an interaction matrix dataframe from transactional type interactions\\n    Required Input -\\n        - df = Pandas DataFrame containing user-item interactions\\n        - user_col = column name containing user\\'s identifier\\n        - item_col = column name containing item\\'s identifier\\n        - rating col = column name containing user feedback on interaction with a given item\\n        - norm (optional) = True if a normalization of ratings is needed\\n        - threshold (required if norm = True) = value above which the rating is favorable\\n    Expected output - \\n        - Pandas dataframe with user-item interactions ready to be fed in a recommendation algorithm\\n    \\'\\'\\'\\n    interactions = df.groupby([user_col, item_col])[rating_col] \\\\\\n            .sum().unstack().reset_index(). \\\\\\n            fillna(0).set_index(user_col)\\n    if norm:\\n        interactions = interactions.applymap(lambda x: 1 if x > threshold else 0)\\n    return interactions\\n\\ndef create_user_dict(interactions):\\n    \\'\\'\\'\\n    Function to create a user dictionary based on their index and number in interaction dataset\\n    Required Input - \\n        interactions - dataset create by create_interaction_matrix\\n    Expected Output -\\n        user_dict - Dictionary type output containing interaction_index as key and user_id as value\\n    \\'\\'\\'\\n    user_id = list(interactions.index)\\n    user_dict = {}\\n    counter = 0 \\n    for i in user_id:\\n        user_dict[i] = counter\\n        counter += 1\\n    return user_dict\\n    \\ndef create_item_dict(df,id_col,name_col):\\n    \\'\\'\\'\\n    Function to create an item dictionary based on their item_id and item name\\n    Required Input - \\n        - df = Pandas dataframe with Item information\\n        - id_col = Column name containing unique identifier for an item\\n        - name_col = Column name containing name of the item\\n    Expected Output -\\n        item_dict = Dictionary type output containing item_id as key and item_name as value\\n    \\'\\'\\'\\n    item_dict ={}\\n    for i in range(df.shape[0]):\\n        item_dict[(df.loc[i,id_col])] = df.loc[i,name_col]\\n    return item_dict\\n\\ndef runMF(interactions, n_components=30, loss=\\'warp\\', k=15, epoch=30,n_jobs = 4):\\n    \\'\\'\\'\\n    Function to run matrix-factorization algorithm\\n    Required Input -\\n        - interactions = dataset create by create_interaction_matrix\\n        - n_components = number of embeddings you want to create to define Item and user\\n        - loss = loss function other options are logistic, brp\\n        - epoch = number of epochs to run \\n        - n_jobs = number of cores used for execution \\n    Expected Output  -\\n        Model - Trained model\\n    \\'\\'\\'\\n    x = sparse.csr_matrix(interactions.values)\\n    model = LightFM(no_components= n_components, loss=loss,k=k)\\n    model.fit(x,epochs=epoch,num_threads = n_jobs)\\n    return model\\n\\ndef sample_recommendation_user(model, interactions, user_id, user_dict, \\n                               item_dict,threshold = 0,nrec_items = 10, show = True):\\n    \\'\\'\\'\\n    Function to produce user recommendations\\n    Required Input - \\n        - model = Trained matrix factorization model\\n        - interactions = dataset used for training the model\\n        - user_id = user ID for which we need to generate recommendation\\n        - user_dict = Dictionary type input containing interaction_index as key and user_id as value\\n        - item_dict = Dictionary type input containing item_id as key and item_name as value\\n        - threshold = value above which the rating is favorable in new interaction matrix\\n        - nrec_items = Number of output recommendation needed\\n    Expected Output - \\n        - Prints list of items the given user has already bought\\n        - Prints list of N recommended items  which user hopefully will be interested in\\n    \\'\\'\\'\\n    n_users, n_items = interactions.shape\\n    user_x = user_dict[user_id]\\n    scores = pd.Series(model.predict(user_x,np.arange(n_items)))\\n    scores.index = interactions.columns\\n    scores = list(pd.Series(scores.sort_values(ascending=False).index))\\n    \\n    known_items = list(pd.Series(interactions.loc[user_id,:] \\\\\\n                                 [interactions.loc[user_id,:] > threshold].index) \\\\\\n\\t\\t\\t\\t\\t\\t\\t\\t .sort_values(ascending=False))\\n    \\n    scores = [x for x in scores if x not in known_items]\\n    return_score_list = scores[0:nrec_items]\\n    known_items = list(pd.Series(known_items).apply(lambda x: item_dict[x]))\\n    scores = list(pd.Series(return_score_list).apply(lambda x: item_dict[x]))\\n    if show == True:\\n        print(\"Known Likes:\")\\n        counter = 1\\n        for i in known_items:\\n            print(str(counter) + \\'- \\' + i)\\n            counter+=1\\n\\n        print(\"\\\\n Recommended Items:\")\\n        counter = 1\\n        for i in scores:\\n            print(str(counter) + \\'- \\' + i)\\n            counter+=1\\n    return return_score_list\\n    \\n\\ndef sample_recommendation_item(model,interactions,item_id,user_dict,item_dict,number_of_user):\\n    \\'\\'\\'\\n    Funnction to produce a list of top N interested users for a given item\\n    Required Input -\\n        - model = Trained matrix factorization model\\n        - interactions = dataset used for training the model\\n        - item_id = item ID for which we need to generate recommended users\\n        - user_dict =  Dictionary type input containing interaction_index as key and user_id as value\\n        - item_dict = Dictionary type input containing item_id as key and item_name as value\\n        - number_of_user = Number of users needed as an output\\n    Expected Output -\\n        - user_list = List of recommended users \\n    \\'\\'\\'\\n    n_users, n_items = interactions.shape\\n    x = np.array(interactions.columns)\\n    scores = pd.Series(model.predict(np.arange(n_users), np.repeat(x.searchsorted(item_id),n_users)))\\n    user_list = list(interactions.index[scores.sort_values(ascending=False).head(number_of_user).index])\\n    return user_list \\n\\n\\ndef create_item_emdedding_distance_matrix(model,interactions):\\n    \\'\\'\\'\\n    Function to create item-item distance embedding matrix\\n    Required Input -\\n        - model = Trained matrix factorization model\\n        - interactions = dataset used for training the model\\n    Expected Output -\\n        - item_emdedding_distance_matrix = Pandas dataframe containing cosine distance matrix b/w items\\n    \\'\\'\\'\\n    df_item_norm_sparse = sparse.csr_matrix(model.item_embeddings)\\n    similarities = cosine_similarity(df_item_norm_sparse)\\n    item_emdedding_distance_matrix = pd.DataFrame(similarities)\\n    item_emdedding_distance_matrix.columns = interactions.columns\\n    item_emdedding_distance_matrix.index = interactions.columns\\n    return item_emdedding_distance_matrix\\n\\ndef item_item_recommendation(item_emdedding_distance_matrix, item_id, \\n                             item_dict, n_items = 10, show = True):\\n    \\'\\'\\'\\n    Function to create item-item recommendation\\n    Required Input - \\n        - item_emdedding_distance_matrix = Pandas dataframe containing cosine distance matrix b/w items\\n        - item_id  = item ID for which we need to generate recommended items\\n        - item_dict = Dictionary type input containing item_id as key and item_name as value\\n        - n_items = Number of items needed as an output\\n    Expected Output -\\n        - recommended_items = List of recommended items\\n    \\'\\'\\'\\n    recommended_items = list(pd.Series(item_emdedding_distance_matrix.loc[item_id,:]. \\\\\\n                                  sort_values(ascending = False).head(n_items+1). \\\\\\n                                  index[1:n_items+1]))\\n    if show == True:\\n        print(\"Item of interest :{0}\".format(item_dict[item_id]))\\n        print(\"Item similar to the above item:\")\\n        counter = 1\\n        for i in recommended_items:\\n            print(str(counter) + \\'- \\' +  item_dict[i])\\n            counter+=1\\n    return recommended_items'}"
            ]
          },
          "metadata": {
            "tags": []
          },
          "execution_count": 4
        }
      ]
    },
    {
      "metadata": {
        "id": "ci6vRFaKG-xQ",
        "colab_type": "code",
        "colab": {}
      },
      "cell_type": "code",
      "source": [
        "# Importing Libraries and cookbooks\n",
        "from recsys import * ## recommender system cookbook\n",
        "from generic_preprocessing import * ## pre-processing code\n",
        "from IPython.display import HTML ## Setting display options for Ipython Notebook\n",
        "import pandas as pd,numpy as np"
      ],
      "execution_count": 0,
      "outputs": []
    },
    {
      "metadata": {
        "id": "zlL6rOe_HN27",
        "colab_type": "code",
        "colab": {
          "base_uri": "https://localhost:8080/",
          "height": 271
        },
        "outputId": "fa34355e-4d2e-448c-b9af-831d3f98981f"
      },
      "cell_type": "code",
      "source": [
        "anime = pd.read_csv('anime.csv')\n",
        "ratings = pd.read_csv('rating.csv').iloc[:5000000]\n",
        "\n",
        "ids = ratings.anime_id.unique()\n",
        "\n",
        "anime.head()"
      ],
      "execution_count": 22,
      "outputs": [
        {
          "output_type": "execute_result",
          "data": {
            "text/html": [
              "<div>\n",
              "<style scoped>\n",
              "    .dataframe tbody tr th:only-of-type {\n",
              "        vertical-align: middle;\n",
              "    }\n",
              "\n",
              "    .dataframe tbody tr th {\n",
              "        vertical-align: top;\n",
              "    }\n",
              "\n",
              "    .dataframe thead th {\n",
              "        text-align: right;\n",
              "    }\n",
              "</style>\n",
              "<table border=\"1\" class=\"dataframe\">\n",
              "  <thead>\n",
              "    <tr style=\"text-align: right;\">\n",
              "      <th></th>\n",
              "      <th>anime_id</th>\n",
              "      <th>name</th>\n",
              "      <th>genre</th>\n",
              "      <th>type</th>\n",
              "      <th>episodes</th>\n",
              "      <th>rating</th>\n",
              "      <th>members</th>\n",
              "    </tr>\n",
              "  </thead>\n",
              "  <tbody>\n",
              "    <tr>\n",
              "      <th>0</th>\n",
              "      <td>32281</td>\n",
              "      <td>Kimi no Na wa.</td>\n",
              "      <td>Drama, Romance, School, Supernatural</td>\n",
              "      <td>Movie</td>\n",
              "      <td>1</td>\n",
              "      <td>9.37</td>\n",
              "      <td>200630</td>\n",
              "    </tr>\n",
              "    <tr>\n",
              "      <th>1</th>\n",
              "      <td>5114</td>\n",
              "      <td>Fullmetal Alchemist: Brotherhood</td>\n",
              "      <td>Action, Adventure, Drama, Fantasy, Magic, Mili...</td>\n",
              "      <td>TV</td>\n",
              "      <td>64</td>\n",
              "      <td>9.26</td>\n",
              "      <td>793665</td>\n",
              "    </tr>\n",
              "    <tr>\n",
              "      <th>2</th>\n",
              "      <td>28977</td>\n",
              "      <td>Gintama°</td>\n",
              "      <td>Action, Comedy, Historical, Parody, Samurai, S...</td>\n",
              "      <td>TV</td>\n",
              "      <td>51</td>\n",
              "      <td>9.25</td>\n",
              "      <td>114262</td>\n",
              "    </tr>\n",
              "    <tr>\n",
              "      <th>3</th>\n",
              "      <td>9253</td>\n",
              "      <td>Steins;Gate</td>\n",
              "      <td>Sci-Fi, Thriller</td>\n",
              "      <td>TV</td>\n",
              "      <td>24</td>\n",
              "      <td>9.17</td>\n",
              "      <td>673572</td>\n",
              "    </tr>\n",
              "    <tr>\n",
              "      <th>4</th>\n",
              "      <td>9969</td>\n",
              "      <td>Gintama&amp;#039;</td>\n",
              "      <td>Action, Comedy, Historical, Parody, Samurai, S...</td>\n",
              "      <td>TV</td>\n",
              "      <td>51</td>\n",
              "      <td>9.16</td>\n",
              "      <td>151266</td>\n",
              "    </tr>\n",
              "  </tbody>\n",
              "</table>\n",
              "</div>"
            ],
            "text/plain": [
              "   anime_id                              name  \\\n",
              "0     32281                    Kimi no Na wa.   \n",
              "1      5114  Fullmetal Alchemist: Brotherhood   \n",
              "2     28977                          Gintama°   \n",
              "3      9253                       Steins;Gate   \n",
              "4      9969                     Gintama&#039;   \n",
              "\n",
              "                                               genre   type episodes  rating  \\\n",
              "0               Drama, Romance, School, Supernatural  Movie        1    9.37   \n",
              "1  Action, Adventure, Drama, Fantasy, Magic, Mili...     TV       64    9.26   \n",
              "2  Action, Comedy, Historical, Parody, Samurai, S...     TV       51    9.25   \n",
              "3                                   Sci-Fi, Thriller     TV       24    9.17   \n",
              "4  Action, Comedy, Historical, Parody, Samurai, S...     TV       51    9.16   \n",
              "\n",
              "   members  \n",
              "0   200630  \n",
              "1   793665  \n",
              "2   114262  \n",
              "3   673572  \n",
              "4   151266  "
            ]
          },
          "metadata": {
            "tags": []
          },
          "execution_count": 22
        }
      ]
    },
    {
      "metadata": {
        "id": "I5-o4yAsq89T",
        "colab_type": "code",
        "colab": {
          "base_uri": "https://localhost:8080/",
          "height": 35
        },
        "outputId": "5f99b816-6b5a-4c65-ff37-194ce273bfbb"
      },
      "cell_type": "code",
      "source": [
        "for i,el in enumerate(anime.anime_id):\n",
        "  if(el in ids):\n",
        "    print(el)\n",
        "    break"
      ],
      "execution_count": 3,
      "outputs": [
        {
          "output_type": "stream",
          "text": [
            "32281\n"
          ],
          "name": "stdout"
        }
      ]
    },
    {
      "metadata": {
        "id": "KdTuXzzEHg4x",
        "colab_type": "code",
        "outputId": "c76d8e2d-2a4a-4559-889c-60d2daade4ec",
        "colab": {
          "base_uri": "https://localhost:8080/",
          "height": 35
        }
      },
      "cell_type": "code",
      "source": [
        "# Creating interaction matrix using rating data\n",
        "interactions = create_interaction_matrix(df = ratings,\n",
        "                                         user_col = 'user_id',\n",
        "                                         item_col = 'anime_id',\n",
        "                                         rating_col = 'rating')\n",
        "interactions.shape"
      ],
      "execution_count": 23,
      "outputs": [
        {
          "output_type": "execute_result",
          "data": {
            "text/plain": [
              "(47848, 9927)"
            ]
          },
          "metadata": {
            "tags": []
          },
          "execution_count": 23
        }
      ]
    },
    {
      "metadata": {
        "id": "_4VgsCGRItrm",
        "colab_type": "code",
        "colab": {}
      },
      "cell_type": "code",
      "source": [
        ""
      ],
      "execution_count": 0,
      "outputs": []
    },
    {
      "metadata": {
        "id": "2rKFusTgJT35",
        "colab_type": "code",
        "outputId": "609f89d6-71ff-4044-d24c-04c645d43585",
        "colab": {
          "base_uri": "https://localhost:8080/",
          "height": 35
        }
      },
      "cell_type": "code",
      "source": [
        "sum(ratings.user_id==3)"
      ],
      "execution_count": 0,
      "outputs": [
        {
          "output_type": "execute_result",
          "data": {
            "text/plain": [
              "94"
            ]
          },
          "metadata": {
            "tags": []
          },
          "execution_count": 7
        }
      ]
    },
    {
      "metadata": {
        "id": "I9l7xnBXLGsm",
        "colab_type": "code",
        "colab": {}
      },
      "cell_type": "code",
      "source": [
        "# Create User Dict\n",
        "user_dict = create_user_dict(interactions=interactions)\n",
        "# Create Item dict\n",
        "movies_dict = create_item_dict(df = anime,\n",
        "                               id_col = 'anime_id',\n",
        "                               name_col = 'name')"
      ],
      "execution_count": 0,
      "outputs": []
    },
    {
      "metadata": {
        "id": "zFoN9fb5La0D",
        "colab_type": "code",
        "colab": {}
      },
      "cell_type": "code",
      "source": [
        "mf_model = runMF(interactions = interactions,\n",
        "                 n_components = 30,\n",
        "                 loss = 'warp',\n",
        "                 epoch = 30,\n",
        "                 n_jobs = 4)"
      ],
      "execution_count": 0,
      "outputs": []
    },
    {
      "metadata": {
        "id": "KUOyXDqhMdsA",
        "colab_type": "code",
        "colab": {}
      },
      "cell_type": "code",
      "source": [
        "## Creating item-item distance matrix\n",
        "item_item_dist = create_item_emdedding_distance_matrix(model = mf_model,\n",
        "                                                       interactions = interactions)\n",
        "## Checking item embedding distance matrix\n",
        "#item_item_dist.head()\n"
      ],
      "execution_count": 0,
      "outputs": []
    },
    {
      "metadata": {
        "id": "VhGUSKvXMtXl",
        "colab_type": "code",
        "outputId": "a2feb74a-2622-43ec-9d24-b02b4adba27a",
        "colab": {
          "base_uri": "https://localhost:8080/",
          "height": 225
        }
      },
      "cell_type": "code",
      "source": [
        "## Calling 10 recommended items for item id \n",
        "rec_list = item_item_recommendation(item_emdedding_distance_matrix = item_item_dist,\n",
        "                                    item_id = 8363,\n",
        "                                    item_dict = movies_dict,\n",
        "                                    n_items = 10)"
      ],
      "execution_count": 31,
      "outputs": [
        {
          "output_type": "stream",
          "text": [
            "Item of interest :Crayon Shin-chan Movie 11: Arashi wo Yobu Eikou no Yakiniku Road\n",
            "Item similar to the above item:\n",
            "1- Crayon Shin-chan Movie 07: Bakuhatsu! Onsen Wakuwaku Daikessen\n",
            "2- Crayon Shin-chan Movie 10: Arashi wo Yobu Appare! Sengoku Daikassen\n",
            "3- Crayon Shin-chan Movie 12: Arashi wo Yobu! Yuuhi no Kasukabe Boys\n",
            "4- Crayon Shin-chan Movie 05: Ankoku Tamatama Daitsuiseki\n",
            "5- Crayon Shin-chan Movie 08: Arashi wo Yobu Jungle\n",
            "6- Crayon Shin-chan Movie 06: Dengeki! Buta no Hizume Daisakusen\n",
            "7- Crayon Shin-chan Movie 13: Densetsu wo Yobu Buriburi 3 Pun Dai Shingeki\n",
            "8- Crayon Shin-chan Movie 03: Unkokusai no Yabou\n",
            "9- Crayon Shin-chan Movie 15: Arashi wo Yobu Utau Ketsu dake Bakudan!\n",
            "10- Crayon Shin-chan Movie 16: Chou Arashi wo Yobu Kinpoko no Yuusha\n"
          ],
          "name": "stdout"
        }
      ]
    },
    {
      "metadata": {
        "id": "2_VH9klhM406",
        "colab_type": "code",
        "outputId": "b86b4e4b-2ec6-4d1f-bf7a-45084cde8b3c",
        "colab": {
          "base_uri": "https://localhost:8080/",
          "height": 139
        }
      },
      "cell_type": "code",
      "source": [
        "l = anime.name[ratings.anime_id.unique()]"
      ],
      "execution_count": 0,
      "outputs": [
        {
          "output_type": "stream",
          "text": [
            "/usr/local/lib/python3.6/dist-packages/pandas/core/series.py:696: FutureWarning: \n",
            "Passing list-likes to .loc or [] with any missing label will raise\n",
            "KeyError in the future, you can use .reindex() as an alternative.\n",
            "\n",
            "See the documentation here:\n",
            "http://pandas.pydata.org/pandas-docs/stable/indexing.html#deprecate-loc-reindex-listlike\n",
            "  return self.loc[key]\n"
          ],
          "name": "stderr"
        }
      ]
    },
    {
      "metadata": {
        "id": "EiQDzHgZNZKY",
        "colab_type": "code",
        "outputId": "b6a5ef47-26fc-419a-d100-a6a7aa4e1c54",
        "colab": {
          "base_uri": "https://localhost:8080/",
          "height": 644
        }
      },
      "cell_type": "code",
      "source": [
        "q = input('anime key: ')\n",
        "\n",
        "for i in movies_dict:\n",
        "  if(q in movies_dict[i].lower()):\n",
        "    print(i,movies_dict[i])"
      ],
      "execution_count": 18,
      "outputs": [
        {
          "output_type": "stream",
          "text": [
            "anime key: shin-chan\n",
            "2450 Crayon Shin-chan Movie 09: Arashi wo Yobu Mouretsu! Otona Teikoku no Gyakushuu\n",
            "966 Crayon Shin-chan\n",
            "3744 Crayon Shin-chan Movie 10: Arashi wo Yobu Appare! Sengoku Daikassen\n",
            "21395 Crayon Shin-chan Movie 22: Gachinko! Gyakushuu no Robo To-chan\n",
            "8369 Crayon Shin-chan Movie 18: Chou Jikuu! Arashi wo Yobu Ora no Hanayome\n",
            "6460 Crayon Shin-chan Movie 05: Ankoku Tamatama Daitsuiseki\n",
            "8359 Crayon Shin-chan Movie 04: Henderland no Daibouken\n",
            "8363 Crayon Shin-chan Movie 11: Arashi wo Yobu Eikou no Yakiniku Road\n",
            "8364 Crayon Shin-chan Movie 12: Arashi wo Yobu! Yuuhi no Kasukabe Boys\n",
            "8362 Crayon Shin-chan Movie 08: Arashi wo Yobu Jungle\n",
            "6217 Crayon Shin-chan Movie 03: Unkokusai no Yabou\n",
            "3745 Crayon Shin-chan Movie 02: Buriburi Oukoku no Hihou\n",
            "8358 Crayon Shin-chan Movie 01: Action Kamen vs. Haigure Maou\n",
            "8360 Crayon Shin-chan Movie 06: Dengeki! Buta no Hizume Daisakusen\n",
            "2172 Crayon Shin-chan Movie 15: Arashi wo Yobu Utau Ketsu dake Bakudan!\n",
            "27653 Crayon Shin-chan Movie 23: Ora no Hikkoshi Monogatari - Saboten Daisuugeki\n",
            "10116 Crayon Shin-chan Movie 19: Arashi wo Yobu Ougon no Spy Daisakusen\n",
            "8361 Crayon Shin-chan Movie 07: Bakuhatsu! Onsen Wakuwaku Daikessen\n",
            "8368 Crayon Shin-chan Movie 17: Otakebe! Kasukabe Yasei Oukoku\n",
            "17113 Crayon Shin-chan Movie 21: Bakauma! B-Kyuu Gourmet Survival Battle!!\n",
            "8366 Crayon Shin-chan Movie 14: Densetsu wo Yobu Odore! Amigo!\n",
            "12499 Crayon Shin-chan Movie 20: Arashi wo Yobu! Ora to Uchuu no Princess\n",
            "8365 Crayon Shin-chan Movie 13: Densetsu wo Yobu Buriburi 3 Pun Dai Shingeki\n",
            "3853 Crayon Shin-chan Manatsu no Yoru ni Ora Sanjou! Arashi wo Yobu Den-O vs. Shin-O 60-bu Special!!\n",
            "8367 Crayon Shin-chan Movie 16: Chou Arashi wo Yobu Kinpoko no Yuusha\n",
            "14095 Kamen Rider Fourze x Crayon Shin-chan\n",
            "5193 Shinjuku Shin-chan Patrol: Warui Otona ni Ki wo Tsukete\n",
            "33661 Crayon Shin-chan Gaiden: Alien vs. Shinnosuke\n",
            "31978 Crayon Shin-chan Movie 24: Bakusui! Yumemi World Dai Totsugeki\n",
            "26223 Shin-chan ga Naita!\n",
            "26157 Shin-chan no Sanrinsha\n",
            "14069 Shinjuku Shin-chan: Yoiko no Koutsuu Anzen\n",
            "34244 Crayon Shin-chan Movie 25: Shin-chan Shuurai! Uchuujin Shiriri\n",
            "3970 Sentakuya Shin-chan\n"
          ],
          "name": "stdout"
        }
      ]
    },
    {
      "metadata": {
        "id": "nSGegvu4NmdA",
        "colab_type": "code",
        "colab": {}
      },
      "cell_type": "code",
      "source": [
        "  "
      ],
      "execution_count": 0,
      "outputs": []
    }
  ]
}